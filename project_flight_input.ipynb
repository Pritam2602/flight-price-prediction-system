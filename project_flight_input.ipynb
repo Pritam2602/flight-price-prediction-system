{
 "cells": [
  {
   "cell_type": "code",
   "execution_count": 2,
   "id": "118a8017-9d21-4015-ad24-f166d46c9dc8",
   "metadata": {},
   "outputs": [
    {
     "name": "stdout",
     "output_type": "stream",
     "text": [
      "<class 'dict'>\n",
      "12\n",
      "{'Trujet': 0, 'SpiceJet': 1, 'Air Asia': 2, 'IndiGo': 3, 'GoAir': 4, 'Vistara': 5, 'Vistara Premium economy': 6, 'Air India': 7, 'Multiple carriers': 8, 'Multiple carriers Premium economy': 9, 'Jet Airways': 10, 'Jet Airways Business': 11}\n"
     ]
    }
   ],
   "source": [
    "import joblib\n",
    "from sklearn.preprocessing import LabelEncoder\n",
    "import pandas as pd\n",
    "import numpy as np\n",
    "\n",
    "xgb_best = joblib.load(\"xgb_best.pkl\")\n",
    "dict_air = joblib.load(\"dict_air.pkl\")\n",
    "dict_des = joblib.load(\"dict_des.pkl\")\n",
    "dict_stp = joblib.load(\"dict_stp.pkl\")\n",
    "print(type(dict_air))\n",
    "print(len(dict_air))\n",
    "print(dict_air)"
   ]
  },
  {
   "cell_type": "code",
   "execution_count": 2,
   "id": "6488f8b2-dabd-4b1d-8969-5f1fc9f74d51",
   "metadata": {},
   "outputs": [],
   "source": [
    "def input_load():\n",
    "    airlines = input(\"enter the airline {Trujet,SpiceJet,Air Asia,IndiGo,GoAir,Vistara,Vistara Premium economy,Air India,Multiple carriers,Multiple carriers Premium economy,Jet Airways,Jet Airways Business}:\")\n",
    "    source = input(\"enter the source city {Banglore,Kolkata,Delhi,Chennai,Mumbai}:\")\n",
    "    destination = input(\"enter the destination {Kolkata,Hyderabad,Delhi,Banglore,Cochin,New Delhi}:\")\n",
    "    duration = input(\"enter the duration[HH:MM]:\")\n",
    "    total_stops = int(input(\"enter the number of stops:\"))\n",
    "    journey_day = int(input(\"enter the journey day:\"))\n",
    "    journey_month = int(input(\"enter the journey month:\"))\n",
    "    journey_year = int(input(\"enter the journey year:\"))\n",
    "    dep_time = input(\"enter the departure time[HH:MM]:\")\n",
    "    arrival_time = input('enter the arrival time[HH:MM]:')\n",
    "\n",
    "    dep_hours,dep_minutes = map(int,dep_time.split(':'))\n",
    "    arr_hours,arr_minutes = map(int,arrival_time.split(':'))\n",
    "    duration_hour,duration_minutes = map(int,duration.split(':'))\n",
    "    duration_total_minutes = duration_hour*60 + duration_minutes\n",
    "\n",
    "\n",
    "    airlines_encoded = None\n",
    "    for key,value in dict_air.items():\n",
    "        if key == airlines:\n",
    "            airlines_encoded = value\n",
    "            break\n",
    "            \n",
    "    destination_encoded = None\n",
    "    for key,value in dict_des.items():\n",
    "        if key == destination:\n",
    "            destination_encoded = value \n",
    "            break\n",
    "\n",
    "    input_data = {'Airline':airlines_encoded,'Source':source,'Destination':destination_encoded,'Duration':duration_total_minutes,'Total_Stops':total_stops,'Journey_day':journey_day,'Journey_month':journey_month,'Journey_year':journey_year,\"Dep_Time_hour\":dep_hours,\"Dep_Time_minute\":dep_minutes,\"Arrival_Time_hour\":arr_hours,\"Arrival_Time_minute\":arr_minutes,\"Duration_hour\":duration_hour,\"Duration_minute\":duration_minutes}\n",
    "    return input_data\n",
    "    \n",
    "        "
   ]
  },
  {
   "cell_type": "code",
   "execution_count": 3,
   "id": "43eb3c6d-a320-422e-a410-f91b0b4fc1f8",
   "metadata": {},
   "outputs": [
    {
     "name": "stdin",
     "output_type": "stream",
     "text": [
      "enter the airline {Trujet,SpiceJet,Air Asia,IndiGo,GoAir,Vistara,Vistara Premium economy,Air India,Multiple carriers,Multiple carriers Premium economy,Jet Airways,Jet Airways Business}: IndiGo\n",
      "enter the source city {Banglore,Kolkata,Delhi,Chennai,Mumbai}: Kolkata\n",
      "enter the destination {Kolkata,Hyderabad,Delhi,Banglore,Cochin,New Delhi}: New Delhi\n",
      "enter the duration[HH:MM]: 04:00\n",
      "enter the number of stops: 2\n",
      "enter the journey day: 09\n",
      "enter the journey month: 11\n",
      "enter the journey year: 2024\n",
      "enter the departure time[HH:MM]: 21:00\n",
      "enter the arrival time[HH:MM]: 3:00\n"
     ]
    }
   ],
   "source": [
    "input_data1 = input_load()\n"
   ]
  },
  {
   "cell_type": "code",
   "execution_count": 13,
   "id": "2b03ddc8-119f-4f50-acf2-1a4e70622893",
   "metadata": {},
   "outputs": [],
   "source": [
    "input_data_list = [input_data1]\n",
    "df = pd.DataFrame(input_data_list)\n",
    "source_list = [\"Banglore\",\"Kolkata\",\"Delhi\",\"Chennai\",\"Mumbai\"]\n",
    "for cat in source_list:\n",
    "    df[\"Source_\"+cat]=df['Source'].apply(lambda x:1 if x == cat else 0)\n",
    "    \n"
   ]
  },
  {
   "cell_type": "code",
   "execution_count": 15,
   "id": "71d06a55-33cf-4d2b-9476-612925a99940",
   "metadata": {},
   "outputs": [],
   "source": [
    "df.drop(\"Source\",axis=1,inplace=True)"
   ]
  },
  {
   "cell_type": "code",
   "execution_count": 17,
   "id": "cce5dd4a-bd6e-4654-800d-dcded879fcd3",
   "metadata": {},
   "outputs": [
    {
     "data": {
      "text/html": [
       "<div>\n",
       "<style scoped>\n",
       "    .dataframe tbody tr th:only-of-type {\n",
       "        vertical-align: middle;\n",
       "    }\n",
       "\n",
       "    .dataframe tbody tr th {\n",
       "        vertical-align: top;\n",
       "    }\n",
       "\n",
       "    .dataframe thead th {\n",
       "        text-align: right;\n",
       "    }\n",
       "</style>\n",
       "<table border=\"1\" class=\"dataframe\">\n",
       "  <thead>\n",
       "    <tr style=\"text-align: right;\">\n",
       "      <th></th>\n",
       "      <th>Airline</th>\n",
       "      <th>Destination</th>\n",
       "      <th>Duration</th>\n",
       "      <th>Total_Stops</th>\n",
       "      <th>Journey_day</th>\n",
       "      <th>Journey_month</th>\n",
       "      <th>Journey_year</th>\n",
       "      <th>Dep_Time_hour</th>\n",
       "      <th>Dep_Time_minute</th>\n",
       "      <th>Arrival_Time_hour</th>\n",
       "      <th>Arrival_Time_minute</th>\n",
       "      <th>Duration_hour</th>\n",
       "      <th>Duration_minute</th>\n",
       "      <th>Source_Banglore</th>\n",
       "      <th>Source_Kolkata</th>\n",
       "      <th>Source_Delhi</th>\n",
       "      <th>Source_Chennai</th>\n",
       "      <th>Source_Mumbai</th>\n",
       "    </tr>\n",
       "  </thead>\n",
       "  <tbody>\n",
       "    <tr>\n",
       "      <th>0</th>\n",
       "      <td>3</td>\n",
       "      <td>5</td>\n",
       "      <td>240</td>\n",
       "      <td>2</td>\n",
       "      <td>9</td>\n",
       "      <td>11</td>\n",
       "      <td>2024</td>\n",
       "      <td>21</td>\n",
       "      <td>0</td>\n",
       "      <td>3</td>\n",
       "      <td>0</td>\n",
       "      <td>4</td>\n",
       "      <td>0</td>\n",
       "      <td>0</td>\n",
       "      <td>1</td>\n",
       "      <td>0</td>\n",
       "      <td>0</td>\n",
       "      <td>0</td>\n",
       "    </tr>\n",
       "  </tbody>\n",
       "</table>\n",
       "</div>"
      ],
      "text/plain": [
       "   Airline  Destination  Duration  Total_Stops  Journey_day  Journey_month  \\\n",
       "0        3            5       240            2            9             11   \n",
       "\n",
       "   Journey_year  Dep_Time_hour  Dep_Time_minute  Arrival_Time_hour  \\\n",
       "0          2024             21                0                  3   \n",
       "\n",
       "   Arrival_Time_minute  Duration_hour  Duration_minute  Source_Banglore  \\\n",
       "0                    0              4                0                0   \n",
       "\n",
       "   Source_Kolkata  Source_Delhi  Source_Chennai  Source_Mumbai  \n",
       "0               1             0               0              0  "
      ]
     },
     "execution_count": 17,
     "metadata": {},
     "output_type": "execute_result"
    }
   ],
   "source": [
    "df"
   ]
  },
  {
   "cell_type": "code",
   "execution_count": 19,
   "id": "a8e0ecb8-a3c4-4254-8282-c8944a915d34",
   "metadata": {},
   "outputs": [],
   "source": [
    "Price = xgb_best.predict(df)"
   ]
  },
  {
   "cell_type": "code",
   "execution_count": 25,
   "id": "66691799-e78b-45f2-8fcc-a6cdd294cd08",
   "metadata": {},
   "outputs": [
    {
     "data": {
      "text/plain": [
       "array([7312.8506], dtype=float32)"
      ]
     },
     "execution_count": 25,
     "metadata": {},
     "output_type": "execute_result"
    }
   ],
   "source": [
    "Price"
   ]
  },
  {
   "cell_type": "code",
   "execution_count": 23,
   "id": "f5e43721-17d3-4163-b8f9-d600f36ba602",
   "metadata": {},
   "outputs": [
    {
     "data": {
      "text/plain": [
       "['df.pkl']"
      ]
     },
     "execution_count": 23,
     "metadata": {},
     "output_type": "execute_result"
    }
   ],
   "source": [
    " joblib.dump(df,\"df.pkl\")"
   ]
  },
  {
   "cell_type": "code",
   "execution_count": null,
   "id": "7a351bec-affb-4260-9d77-116de022fca4",
   "metadata": {},
   "outputs": [],
   "source": []
  }
 ],
 "metadata": {
  "kernelspec": {
   "display_name": "Python 3 (ipykernel)",
   "language": "python",
   "name": "python3"
  },
  "language_info": {
   "codemirror_mode": {
    "name": "ipython",
    "version": 3
   },
   "file_extension": ".py",
   "mimetype": "text/x-python",
   "name": "python",
   "nbconvert_exporter": "python",
   "pygments_lexer": "ipython3",
   "version": "3.12.4"
  }
 },
 "nbformat": 4,
 "nbformat_minor": 5
}
